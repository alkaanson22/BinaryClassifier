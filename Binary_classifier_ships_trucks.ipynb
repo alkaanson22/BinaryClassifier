{
  "nbformat": 4,
  "nbformat_minor": 0,
  "metadata": {
    "colab": {
      "name": "Binary_classifier_ships_trucks.ipynb",
      "provenance": [],
      "collapsed_sections": []
    },
    "kernelspec": {
      "display_name": "Python 3",
      "name": "python3"
    },
    "language_info": {
      "name": "python"
    }
  },
  "cells": [
    {
      "cell_type": "markdown",
      "metadata": {
        "id": "view-in-github"
      },
      "source": [
        "<a href=\"https://colab.research.google.com/github/blessey15/Ship-Truck-Binary-Classifier/blob/main/classifier.ipynb\" target=\"_parent\"><img src=\"https://colab.research.google.com/assets/colab-badge.svg\" alt=\"Open In Colab\"/></a>"
      ]
    },
    {
      "cell_type": "code",
      "metadata": {
        "id": "aQw-aUgt0Ym8"
      },
      "source": [
        "from tensorflow.keras import datasets, layers, models\n",
        "import numpy as np\n",
        "import matplotlib.pyplot as plt"
      ],
      "execution_count": 1,
      "outputs": []
    },
    {
      "cell_type": "code",
      "metadata": {
        "colab": {
          "base_uri": "https://localhost:8080/"
        },
        "id": "hO9JjIgG2ygM",
        "outputId": "372ce3a8-2114-49ad-b223-00c78f983ea3"
      },
      "source": [
        "(X_train, y_train), (X_test, y_test) = datasets.cifar10.load_data()"
      ],
      "execution_count": 3,
      "outputs": [
        {
          "output_type": "stream",
          "text": [
            "Downloading data from https://www.cs.toronto.edu/~kriz/cifar-10-python.tar.gz\n",
            "170500096/170498071 [==============================] - 2s 0us/step\n"
          ],
          "name": "stdout"
        }
      ]
    },
    {
      "cell_type": "code",
      "metadata": {
        "colab": {
          "base_uri": "https://localhost:8080/"
        },
        "id": "ajA-1-Gn8ySz",
        "outputId": "1c4d7af4-7391-4e02-bc85-ab2379d5609f"
      },
      "source": [
        "X_train.shape"
      ],
      "execution_count": 4,
      "outputs": [
        {
          "output_type": "execute_result",
          "data": {
            "text/plain": [
              "(50000, 32, 32, 3)"
            ]
          },
          "metadata": {
            "tags": []
          },
          "execution_count": 4
        }
      ]
    },
    {
      "cell_type": "code",
      "metadata": {
        "colab": {
          "base_uri": "https://localhost:8080/"
        },
        "id": "eY_6kZYx8-Vi",
        "outputId": "dc4de8a9-8054-4171-f9df-1a33acd64148"
      },
      "source": [
        "X_test.shape"
      ],
      "execution_count": 5,
      "outputs": [
        {
          "output_type": "execute_result",
          "data": {
            "text/plain": [
              "(10000, 32, 32, 3)"
            ]
          },
          "metadata": {
            "tags": []
          },
          "execution_count": 5
        }
      ]
    },
    {
      "cell_type": "code",
      "metadata": {
        "colab": {
          "base_uri": "https://localhost:8080/"
        },
        "id": "RXr40zez9Cei",
        "outputId": "2996a3aa-a5c8-4882-b4cf-9074590c1fad"
      },
      "source": [
        "y_train.shape"
      ],
      "execution_count": 6,
      "outputs": [
        {
          "output_type": "execute_result",
          "data": {
            "text/plain": [
              "(50000, 1)"
            ]
          },
          "metadata": {
            "tags": []
          },
          "execution_count": 6
        }
      ]
    },
    {
      "cell_type": "code",
      "metadata": {
        "colab": {
          "base_uri": "https://localhost:8080/"
        },
        "id": "kriE2EVgH0Vs",
        "outputId": "f514c1bc-128c-4716-bc0a-cba4d302ca4f"
      },
      "source": [
        "idx = (np.logical_or(y_train==8, y_train==9)).reshape(X_train.shape[0])\n",
        "print('Index Shape: {}'.format(idx.shape))\n",
        "X_train = X_train[idx]\n",
        "y_train= y_train[idx]\n",
        "print('Filtered Images Shape: {}'.format(X_train.shape))"
      ],
      "execution_count": 7,
      "outputs": [
        {
          "output_type": "stream",
          "text": [
            "Index Shape: (50000,)\n",
            "Filtered Images Shape: (10000, 32, 32, 3)\n"
          ],
          "name": "stdout"
        }
      ]
    },
    {
      "cell_type": "code",
      "metadata": {
        "colab": {
          "base_uri": "https://localhost:8080/"
        },
        "id": "enNokMdxDLue",
        "outputId": "dd823642-68e4-4777-f2ff-7afe8dfcea68"
      },
      "source": [
        "y_train[:5]"
      ],
      "execution_count": 8,
      "outputs": [
        {
          "output_type": "execute_result",
          "data": {
            "text/plain": [
              "array([[9],\n",
              "       [9],\n",
              "       [8],\n",
              "       [9],\n",
              "       [9]], dtype=uint8)"
            ]
          },
          "metadata": {
            "tags": []
          },
          "execution_count": 8
        }
      ]
    },
    {
      "cell_type": "code",
      "metadata": {
        "colab": {
          "base_uri": "https://localhost:8080/"
        },
        "id": "0XbBQmtiJuDs",
        "outputId": "9881da8c-74be-4a48-8ed7-987a82fef602"
      },
      "source": [
        "y_train = y_train.reshape(-1,)\n",
        "y_train[:5]"
      ],
      "execution_count": 9,
      "outputs": [
        {
          "output_type": "execute_result",
          "data": {
            "text/plain": [
              "array([9, 9, 8, 9, 9], dtype=uint8)"
            ]
          },
          "metadata": {
            "tags": []
          },
          "execution_count": 9
        }
      ]
    },
    {
      "cell_type": "code",
      "metadata": {
        "colab": {
          "base_uri": "https://localhost:8080/"
        },
        "id": "otq5UKjBMUxR",
        "outputId": "ae74bb22-1e23-4f83-86f0-7f3a02000765"
      },
      "source": [
        "idx = (np.logical_or(y_test==8, y_test==9)).reshape(X_test.shape[0])\n",
        "print('Index Shape: {}'.format(idx.shape))\n",
        "X_test = X_test[idx]\n",
        "y_test= y_test[idx]\n",
        "print('Filtered Images Shape: {}'.format(X_test.shape))"
      ],
      "execution_count": 10,
      "outputs": [
        {
          "output_type": "stream",
          "text": [
            "Index Shape: (10000,)\n",
            "Filtered Images Shape: (2000, 32, 32, 3)\n"
          ],
          "name": "stdout"
        }
      ]
    },
    {
      "cell_type": "code",
      "metadata": {
        "id": "ez0s1laeJwJS"
      },
      "source": [
        "y_test = y_test.reshape(-1,)"
      ],
      "execution_count": 11,
      "outputs": []
    },
    {
      "cell_type": "code",
      "metadata": {
        "id": "Bj7R8qvvDpEJ"
      },
      "source": [
        "classes=[\"ship\",\"truck\"]\n",
        "dic={8 : 'ship', 9 : 'truck'}"
      ],
      "execution_count": 12,
      "outputs": []
    },
    {
      "cell_type": "code",
      "metadata": {
        "id": "ve4-SiQsDybL"
      },
      "source": [
        "def plot_sample(X, y, index):\n",
        "    plt.figure(figsize = (15,2))\n",
        "    plt.imshow(X[index])\n",
        "    if y[index]==8:\n",
        "      i=0\n",
        "    else:\n",
        "      i=1  \n",
        "    plt.xlabel(classes[i])"
      ],
      "execution_count": 13,
      "outputs": []
    },
    {
      "cell_type": "code",
      "metadata": {
        "colab": {
          "base_uri": "https://localhost:8080/",
          "height": 173
        },
        "id": "I4GXTUD5D5WK",
        "outputId": "78ae44fc-42a8-4c63-d9c9-a8f32d19be22"
      },
      "source": [
        "plot_sample(X_train, y_train, 2)"
      ],
      "execution_count": 17,
      "outputs": [
        {
          "output_type": "display_data",
          "data": {
            "image/png": "[encoded data removed]",
            "text/plain": [
              "<Figure size 1080x144 with 1 Axes>"
            ]
          },
          "metadata": {
            "tags": [],
            "needs_background": "light"
          }
        }
      ]
    },
    {
      "cell_type": "code",
      "metadata": {
        "colab": {
          "base_uri": "https://localhost:8080/",
          "height": 173
        },
        "id": "Bax4LkkuKP3R",
        "outputId": "b1ccf9d6-4add-41b4-e216-08a3ef62ecbd"
      },
      "source": [
        "plot_sample(X_train, y_train, 3)"
      ],
      "execution_count": 16,
      "outputs": [
        {
          "output_type": "display_data",
          "data": {
            "image/png": "[encoded data removed]",
            "text/plain": [
              "<Figure size 1080x144 with 1 Axes>"
            ]
          },
          "metadata": {
            "tags": [],
            "needs_background": "light"
          }
        }
      ]
    },
    {
      "cell_type": "code",
      "metadata": {
        "colab": {
          "base_uri": "https://localhost:8080/"
        },
        "id": "5QG0vH__KXD7",
        "outputId": "106f9b61-8026-4425-be8e-55f6c9e32437"
      },
      "source": [
        "idx = (np.logical_or(y_test==8, y_test==9)).reshape(X_test.shape[0])\n",
        "print('Index Shape: {}'.format(idx.shape))\n",
        "X_test = X_test[idx]\n",
        "y_test= y_test[idx]\n",
        "print('Filtered Images Shape: {}'.format(X_test.shape))"
      ],
      "execution_count": 18,
      "outputs": [
        {
          "output_type": "stream",
          "text": [
            "Index Shape: (2000,)\n",
            "Filtered Images Shape: (2000, 32, 32, 3)\n"
          ],
          "name": "stdout"
        }
      ]
    },
    {
      "cell_type": "code",
      "metadata": {
        "id": "eyehOAgcMidL"
      },
      "source": [
        "X_train = X_train / 255.0\n",
        "X_test = X_test / 255.0"
      ],
      "execution_count": 19,
      "outputs": []
    },
    {
      "cell_type": "code",
      "metadata": {
        "id": "KeYHV8baMltR"
      },
      "source": [
        "cnn = models.Sequential([\n",
        "    layers.Conv2D(filters=32, kernel_size=(3, 3), activation='relu', input_shape=(32, 32, 3)),\n",
        "    layers.MaxPooling2D((2, 2)),\n",
        "    \n",
        "    layers.Conv2D(filters=64, kernel_size=(3, 3), activation='relu'),\n",
        "    layers.MaxPooling2D((2, 2)),\n",
        "    \n",
        "    layers.Flatten(),\n",
        "    layers.Dense(64, activation='relu'),\n",
        "    layers.Dense(10, activation='softmax')\n",
        "])"
      ],
      "execution_count": 20,
      "outputs": []
    },
    {
      "cell_type": "code",
      "metadata": {
        "id": "pe4X8oHa_CDN"
      },
      "source": [
        "cnn.compile(optimizer='adam',\n",
        "              loss='sparse_categorical_crossentropy',\n",
        "              metrics=['accuracy'])"
      ],
      "execution_count": 21,
      "outputs": []
    },
    {
      "cell_type": "code",
      "metadata": {
        "id": "Bnh6-0FJ7v4l",
        "colab": {
          "base_uri": "https://localhost:8080/"
        },
        "outputId": "a41d4b37-198a-4bb2-97ba-40868b50b805"
      },
      "source": [
        "cnn.fit(X_train, y_train, epochs=10)"
      ],
      "execution_count": 22,
      "outputs": [
        {
          "output_type": "stream",
          "text": [
            "Epoch 1/10\n",
            "313/313 [==============================] - 14s 41ms/step - loss: 0.4549 - accuracy: 0.7880\n",
            "Epoch 2/10\n",
            "313/313 [==============================] - 13s 41ms/step - loss: 0.2822 - accuracy: 0.8815\n",
            "Epoch 3/10\n",
            "313/313 [==============================] - 12s 39ms/step - loss: 0.2323 - accuracy: 0.9051\n",
            "Epoch 4/10\n",
            "313/313 [==============================] - 12s 39ms/step - loss: 0.2054 - accuracy: 0.9181\n",
            "Epoch 5/10\n",
            "313/313 [==============================] - 12s 39ms/step - loss: 0.1902 - accuracy: 0.9243\n",
            "Epoch 6/10\n",
            "313/313 [==============================] - 12s 39ms/step - loss: 0.1677 - accuracy: 0.9364\n",
            "Epoch 7/10\n",
            "313/313 [==============================] - 12s 39ms/step - loss: 0.1619 - accuracy: 0.9376\n",
            "Epoch 8/10\n",
            "313/313 [==============================] - 12s 39ms/step - loss: 0.1483 - accuracy: 0.9427\n",
            "Epoch 9/10\n",
            "313/313 [==============================] - 12s 39ms/step - loss: 0.1342 - accuracy: 0.9488\n",
            "Epoch 10/10\n",
            "313/313 [==============================] - 12s 39ms/step - loss: 0.1213 - accuracy: 0.9551\n"
          ],
          "name": "stdout"
        },
        {
          "output_type": "execute_result",
          "data": {
            "text/plain": [
              "<tensorflow.python.keras.callbacks.History at 0x7f7bebce2790>"
            ]
          },
          "metadata": {
            "tags": []
          },
          "execution_count": 22
        }
      ]
    },
    {
      "cell_type": "code",
      "metadata": {
        "colab": {
          "base_uri": "https://localhost:8080/"
        },
        "id": "EXR0CRnb_IEQ",
        "outputId": "09fbc9ad-c580-4c7b-cbca-5c733d02f639"
      },
      "source": [
        "cnn.evaluate(X_test,y_test)"
      ],
      "execution_count": 23,
      "outputs": [
        {
          "output_type": "stream",
          "text": [
            "63/63 [==============================] - 1s 11ms/step - loss: 0.1666 - accuracy: 0.9350\n"
          ],
          "name": "stdout"
        },
        {
          "output_type": "execute_result",
          "data": {
            "text/plain": [
              "[0.16656917333602905, 0.9350000023841858]"
            ]
          },
          "metadata": {
            "tags": []
          },
          "execution_count": 23
        }
      ]
    },
    {
      "cell_type": "code",
      "metadata": {
        "colab": {
          "base_uri": "https://localhost:8080/"
        },
        "id": "A48jbbWx_LOM",
        "outputId": "4699ca29-1716-48f3-d7b2-4cb69853128a"
      },
      "source": [
        "y_pred = cnn.predict(X_test)\n",
        "y_pred[:5]"
      ],
      "execution_count": 24,
      "outputs": [
        {
          "output_type": "execute_result",
          "data": {
            "text/plain": [
              "array([[3.0908043e-07, 1.2256714e-08, 7.1291701e-08, 2.9495570e-08,\n",
              "        4.2530282e-08, 3.9015703e-08, 6.8405903e-08, 1.7957589e-08,\n",
              "        9.5533365e-01, 4.4665765e-02],\n",
              "       [3.9736228e-06, 3.7859860e-07, 1.2235412e-06, 8.0301498e-07,\n",
              "        9.5207821e-07, 8.3773449e-07, 1.1872954e-06, 4.8319839e-07,\n",
              "        9.6704280e-01, 3.2947395e-02],\n",
              "       [2.0936811e-08, 4.5618793e-11, 6.5786143e-10, 4.1270590e-10,\n",
              "        1.4662315e-09, 2.0471744e-09, 1.2694452e-09, 2.5135030e-10,\n",
              "        3.5270903e-04, 9.9964726e-01],\n",
              "       [8.1069187e-09, 1.3553847e-11, 2.0366701e-10, 1.4882789e-10,\n",
              "        5.9066024e-10, 6.7155115e-10, 4.8470589e-10, 8.4453507e-11,\n",
              "        8.0608606e-04, 9.9919397e-01],\n",
              "       [3.8712710e-07, 1.8342700e-08, 8.5948251e-08, 5.6232007e-08,\n",
              "        5.2994825e-08, 4.6656755e-08, 1.0649773e-07, 3.8298072e-08,\n",
              "        9.8783255e-01, 1.2166561e-02]], dtype=float32)"
            ]
          },
          "metadata": {
            "tags": []
          },
          "execution_count": 24
        }
      ]
    },
    {
      "cell_type": "code",
      "metadata": {
        "colab": {
          "base_uri": "https://localhost:8080/"
        },
        "id": "POUVF7EZMq8x",
        "outputId": "95c98975-710b-49b6-dbdc-f61724b5a4f6"
      },
      "source": [
        "y_classes = [np.argmax(element) for element in y_pred]\n",
        "y_classes[:5]"
      ],
      "execution_count": 25,
      "outputs": [
        {
          "output_type": "execute_result",
          "data": {
            "text/plain": [
              "[8, 8, 9, 9, 8]"
            ]
          },
          "metadata": {
            "tags": []
          },
          "execution_count": 25
        }
      ]
    },
    {
      "cell_type": "code",
      "metadata": {
        "colab": {
          "base_uri": "https://localhost:8080/"
        },
        "id": "hwu70FIvMuoN",
        "outputId": "22bbfcd5-233e-4c38-e401-6395523d1752"
      },
      "source": [
        "y_test[:5]"
      ],
      "execution_count": 26,
      "outputs": [
        {
          "output_type": "execute_result",
          "data": {
            "text/plain": [
              "array([8, 8, 9, 9, 8], dtype=uint8)"
            ]
          },
          "metadata": {
            "tags": []
          },
          "execution_count": 26
        }
      ]
    },
    {
      "cell_type": "code",
      "metadata": {
        "colab": {
          "base_uri": "https://localhost:8080/",
          "height": 173
        },
        "id": "p4xKLbi2M3zw",
        "outputId": "9f244d40-3e92-4bda-fddc-f5fa0b0e6da6"
      },
      "source": [
        "plot_sample(X_test, y_test,5)"
      ],
      "execution_count": 28,
      "outputs": [
        {
          "output_type": "display_data",
          "data": {
            "image/png": "[encoded data removed]",
            "text/plain": [
              "<Figure size 1080x144 with 1 Axes>"
            ]
          },
          "metadata": {
            "tags": [],
            "needs_background": "light"
          }
        }
      ]
    },
    {
      "cell_type": "code",
      "metadata": {
        "colab": {
          "base_uri": "https://localhost:8080/",
          "height": 35
        },
        "id": "zR0t3dINM4ot",
        "outputId": "c7171bd7-1975-4c27-fd1b-99ef2e948a1f"
      },
      "source": [
        "dic[y_classes[5]]"
      ],
      "execution_count": 31,
      "outputs": [
        {
          "output_type": "execute_result",
          "data": {
            "application/vnd.google.colaboratory.intrinsic+json": {
              "type": "string"
            },
            "text/plain": [
              "'ship'"
            ]
          },
          "metadata": {
            "tags": []
          },
          "execution_count": 31
        }
      ]
    },
    {
      "cell_type": "code",
      "metadata": {
        "colab": {
          "base_uri": "https://localhost:8080/",
          "height": 173
        },
        "id": "LVtVhasXUvyH",
        "outputId": "54fdb010-f86a-4e29-bb1f-da0f5660a1d7"
      },
      "source": [
        "plot_sample(X_test, y_test,3)"
      ],
      "execution_count": 32,
      "outputs": [
        {
          "output_type": "display_data",
          "data": {
            "image/png": "[encoded data removed]",
            "text/plain": [
              "<Figure size 1080x144 with 1 Axes>"
            ]
          },
          "metadata": {
            "tags": [],
            "needs_background": "light"
          }
        }
      ]
    },
    {
      "cell_type": "code",
      "metadata": {
        "colab": {
          "base_uri": "https://localhost:8080/",
          "height": 35
        },
        "id": "JW4W8jgDU3F_",
        "outputId": "78730ec6-c104-4c40-ab5e-f53d9c424a9c"
      },
      "source": [
        "dic[y_classes[3]]"
      ],
      "execution_count": 33,
      "outputs": [
        {
          "output_type": "execute_result",
          "data": {
            "application/vnd.google.colaboratory.intrinsic+json": {
              "type": "string"
            },
            "text/plain": [
              "'truck'"
            ]
          },
          "metadata": {
            "tags": []
          },
          "execution_count": 33
        }
      ]
    },
    {
      "cell_type": "code",
      "metadata": {
        "id": "7t7gBMYh_apX"
      },
      "source": [
        "cnn.save('model.h5')\n"
      ],
      "execution_count": 34,
      "outputs": []
    }
  ]
}